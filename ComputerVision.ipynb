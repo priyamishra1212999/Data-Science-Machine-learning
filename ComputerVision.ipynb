{
 "cells": [
  {
   "cell_type": "code",
   "execution_count": 1,
   "metadata": {},
   "outputs": [],
   "source": [
    "# OpenCv\n",
    "# how can we detect face on any image\n",
    "# how can we detect face and eyes on video\n",
    "# how can we detect face and eyes using webcam\n",
    "# We will train a model for face detection\n",
    "# Face detection attendence system (project)\n",
    "\n",
    "import cv2"
   ]
  },
  {
   "cell_type": "code",
   "execution_count": 50,
   "metadata": {},
   "outputs": [],
   "source": [
    "img=cv2.imread(\"sachine2.webp\")\n",
    "cv2.imshow(\"window\",img)\n",
    "cv2.waitKey()\n",
    "cv2.destroyWindow(\"window\")"
   ]
  },
  {
   "cell_type": "code",
   "execution_count": 3,
   "metadata": {},
   "outputs": [],
   "source": [
    "img=cv2.imread(\"sachine2.webp\",0) # 0 use for black& white image\n",
    "cv2.imshow(\"window\",img)\n",
    "cv2.waitKey(4000)\n",
    "cv2.destroyWindow(\"window\")"
   ]
  },
  {
   "cell_type": "code",
   "execution_count": 4,
   "metadata": {},
   "outputs": [],
   "source": [
    "img=cv2.imread(\"sachine2.webp\",1) # 0 use for black& white image\n",
    "cv2.imshow(\"window\",img)\n",
    "cv2.waitKey(4000)\n",
    "cv2.destroyWindow(\"window\")"
   ]
  },
  {
   "cell_type": "code",
   "execution_count": 9,
   "metadata": {},
   "outputs": [],
   "source": [
    "img=cv2.imread(\"sachine2.webp\") # 0 use for black& white image\n",
    "img2=cv2.cvtColor(img,cv2.COLOR_BGR2GRAY)\n",
    "cv2.imshow(\"window2\",img)\n",
    "cv2.imshow(\"window\",img2)\n",
    "cv2.waitKey()\n",
    "cv2.destroyAllWindows()"
   ]
  },
  {
   "cell_type": "code",
   "execution_count": 11,
   "metadata": {},
   "outputs": [],
   "source": [
    "#resize image\n",
    "img=cv2.imread(\"sachine2.webp\") \n",
    "img2=cv2.cvtColor(img,cv2.COLOR_BGR2GRAY)\n",
    "resize_img=cv2.resize(img,[400,400])\n",
    "cv2.imshow(\"window2\",img)\n",
    "cv2.imshow(\"window\",img2)\n",
    "cv2.imshow(\"window3\",resize_img)\n",
    "cv2.waitKey()\n",
    "cv2.destroyAllWindows()"
   ]
  },
  {
   "cell_type": "code",
   "execution_count": 12,
   "metadata": {},
   "outputs": [],
   "source": [
    "#resize image\n",
    "img=cv2.imread(\"sachine2.webp\") \n",
    "img2=cv2.cvtColor(img,cv2.COLOR_BGR2GRAY)\n",
    "resize_img=cv2.resize(img,[400,400])\n",
    "cv2.imshow(\"window2\",img)\n",
    "cv2.imshow(\"window\",img2)\n",
    "cv2.imshow(\"window3\",resize_img)\n",
    "cv2.waitKey()\n",
    "cv2.destroyAllWindows()"
   ]
  },
  {
   "cell_type": "code",
   "execution_count": 16,
   "metadata": {},
   "outputs": [],
   "source": [
    "#save image\n",
    "img=cv2.imread(\"sachine2.webp\") \n",
    "img2=cv2.cvtColor(img,cv2.COLOR_BGR2GRAY)\n",
    "resize_img=cv2.resize(img,[400,400])\n",
    "cv2.imshow(\"window2\",img)\n",
    "cv2.imshow(\"window\",img2)\n",
    "cv2.imshow(\"window3\",resize_img)\n",
    "cv2.imwrite(\"sachine.jpg\",resize_img)\n",
    "cv2.waitKey()\n",
    "cv2.destroyAllWindows()"
   ]
  },
  {
   "cell_type": "code",
   "execution_count": 23,
   "metadata": {},
   "outputs": [],
   "source": [
    "#blur image\n",
    "img=cv2.imread(\"sachine2.webp\") \n",
    "img2=cv2.cvtColor(img,cv2.COLOR_BGR2GRAY)\n",
    "\n",
    "resize_img=cv2.resize(img,[400,400])\n",
    "blur_img=cv2.blur(resize_img,ksize=(100,10))\n",
    "cv2.imshow(\"window3\",blur_img)\n",
    "cv2.waitKey()\n",
    "cv2.destroyAllWindows()"
   ]
  },
  {
   "cell_type": "code",
   "execution_count": 38,
   "metadata": {},
   "outputs": [],
   "source": [
    "#alpha,beta(contrast, brightness)\n",
    "img=cv2.imread(\"sachine2.webp\") \n",
    "img2=cv2.cvtColor(img,cv2.COLOR_BGR2GRAY)\n",
    "\n",
    "resize_img=cv2.resize(img,[400,400])\n",
    "britcon_img=cv2.convertScaleAbs(resize_img,alpha=3.10,beta=10)\n",
    "cv2.imshow(\"window3\",britcon_img)\n",
    "cv2.waitKey()\n",
    "cv2.destroyAllWindows()"
   ]
  },
  {
   "cell_type": "code",
   "execution_count": 39,
   "metadata": {},
   "outputs": [],
   "source": [
    "#alpha,beta(contrast, brightness)\n",
    "img=cv2.imread(\"sachine2.webp\") \n",
    "img2=cv2.cvtColor(img,cv2.COLOR_BGR2GRAY)\n",
    "\n",
    "resize_img=cv2.resize(img,[400,400])\n",
    "britcon_img=cv2.convertScaleAbs(resize_img,alpha=3.10,beta=10)\n",
    "cv2.imshow(\"window3\",britcon_img)\n",
    "cv2.waitKey()\n",
    "cv2.destroyAllWindows()"
   ]
  },
  {
   "cell_type": "code",
   "execution_count": 43,
   "metadata": {},
   "outputs": [],
   "source": [
    "#flip image\n",
    "img=cv2.imread(\"sachine2.webp\") \n",
    "img2=cv2.imread(\"sachine2.webp\")\n",
    "\n",
    "fliped=cv2.flip(img2,flipCode=-1)\n",
    "cv2.imshow(\"window3\",img)\n",
    "cv2.imshow(\"window1\",fliped)\n",
    "cv2.waitKey()\n",
    "cv2.destroyAllWindows()"
   ]
  },
  {
   "cell_type": "code",
   "execution_count": 44,
   "metadata": {},
   "outputs": [],
   "source": [
    "#flip image\n",
    "img=cv2.imread(\"sachine2.webp\") \n",
    "img2=cv2.imread(\"sachine2.webp\")\n",
    "\n",
    "fliped=cv2.flip(img2,flipCode=1)\n",
    "cv2.imshow(\"window3\",img)\n",
    "cv2.imshow(\"window1\",fliped)\n",
    "cv2.waitKey()\n",
    "cv2.destroyAllWindows()"
   ]
  },
  {
   "cell_type": "code",
   "execution_count": 45,
   "metadata": {},
   "outputs": [],
   "source": [
    "#split color channel\n",
    "img=cv2.imread(\"sachine2.webp\") \n",
    "blue,green,red=cv2.split(img)\n",
    "cv2.imshow(\"blue\",blue)\n",
    "cv2.imshow(\"green\",green)\n",
    "cv2.imshow(\"red\",red)\n",
    "\n",
    "cv2.waitKey()\n",
    "cv2.destroyAllWindows()"
   ]
  },
  {
   "cell_type": "code",
   "execution_count": 46,
   "metadata": {},
   "outputs": [
    {
     "data": {
      "text/plain": [
       "array([[119, 119, 119, ..., 117, 117, 117],\n",
       "       [119, 119, 119, ..., 117, 117, 117],\n",
       "       [119, 119, 119, ..., 117, 117, 117],\n",
       "       ...,\n",
       "       [120, 120, 120, ..., 126, 126, 126],\n",
       "       [120, 120, 120, ..., 126, 126, 126],\n",
       "       [120, 120, 120, ..., 126, 126, 126]], dtype=uint8)"
      ]
     },
     "execution_count": 46,
     "metadata": {},
     "output_type": "execute_result"
    }
   ],
   "source": [
    "green"
   ]
  },
  {
   "cell_type": "code",
   "execution_count": 47,
   "metadata": {},
   "outputs": [
    {
     "data": {
      "text/plain": [
       "array([[124, 124, 124, ..., 126, 126, 126],\n",
       "       [124, 124, 124, ..., 126, 126, 126],\n",
       "       [124, 124, 124, ..., 126, 126, 126],\n",
       "       ...,\n",
       "       [132, 132, 132, ..., 131, 131, 131],\n",
       "       [132, 132, 132, ..., 131, 131, 131],\n",
       "       [132, 132, 132, ..., 131, 131, 131]], dtype=uint8)"
      ]
     },
     "execution_count": 47,
     "metadata": {},
     "output_type": "execute_result"
    }
   ],
   "source": [
    "red"
   ]
  },
  {
   "cell_type": "code",
   "execution_count": 48,
   "metadata": {},
   "outputs": [
    {
     "data": {
      "text/plain": [
       "array([[119, 119, 119, ..., 117, 117, 117],\n",
       "       [119, 119, 119, ..., 117, 117, 117],\n",
       "       [119, 119, 119, ..., 117, 117, 117],\n",
       "       ...,\n",
       "       [120, 120, 120, ..., 126, 126, 126],\n",
       "       [120, 120, 120, ..., 126, 126, 126],\n",
       "       [120, 120, 120, ..., 126, 126, 126]], dtype=uint8)"
      ]
     },
     "execution_count": 48,
     "metadata": {},
     "output_type": "execute_result"
    }
   ],
   "source": [
    "green"
   ]
  },
  {
   "cell_type": "code",
   "execution_count": 57,
   "metadata": {},
   "outputs": [],
   "source": [
    "#drawing rectangle on image\n",
    "img=cv2.imread(\"sachine2.webp\") \n",
    "img2=cv2.cvtColor(img,cv2.COLOR_BGR2GRAY)\n",
    "cv2.rectangle(img,(40,40),(150,170),(0,0,255),2)\n",
    "cv2.imshow(\"window2\",img)\n",
    "cv2.waitKey()\n",
    "cv2.destroyAllWindows()"
   ]
  },
  {
   "cell_type": "code",
   "execution_count": 1,
   "metadata": {},
   "outputs": [
    {
     "data": {
      "text/plain": [
       "110592"
      ]
     },
     "execution_count": 1,
     "metadata": {},
     "output_type": "execute_result"
    }
   ],
   "source": [
    "# how can we detect face on any image\n",
    "#3D image\n",
    "192*192*3\n"
   ]
  },
  {
   "cell_type": "code",
   "execution_count": 2,
   "metadata": {},
   "outputs": [],
   "source": [
    "import cv2"
   ]
  },
  {
   "cell_type": "code",
   "execution_count": 15,
   "metadata": {},
   "outputs": [],
   "source": [
    "Model_face=cv2.CascadeClassifier(\"trained model\\haarcascade_frontalface_alt_tree.xml\")\n",
    "img=cv2.imread(\"sachine.jpg\") \n",
    "img2=cv2.cvtColor(img,cv2.COLOR_BGR2GRAY)\n",
    "\n",
    "Face=Model_face.detectMultiScale(img2,minNeighbors=1)\n",
    "for x,y,w,h in Face:\n",
    "    cv2.rectangle(img,(x,y,w,h),(0,0,255),2)\n",
    "cv2.imshow(\"window2\",img)\n",
    "cv2.waitKey()\n",
    "cv2.destroyAllWindows()"
   ]
  },
  {
   "cell_type": "code",
   "execution_count": null,
   "metadata": {},
   "outputs": [],
   "source": []
  }
 ],
 "metadata": {
  "kernelspec": {
   "display_name": "Python 3",
   "language": "python",
   "name": "python3"
  },
  "language_info": {
   "codemirror_mode": {
    "name": "ipython",
    "version": 3
   },
   "file_extension": ".py",
   "mimetype": "text/x-python",
   "name": "python",
   "nbconvert_exporter": "python",
   "pygments_lexer": "ipython3",
   "version": "3.11.2"
  },
  "orig_nbformat": 4
 },
 "nbformat": 4,
 "nbformat_minor": 2
}
